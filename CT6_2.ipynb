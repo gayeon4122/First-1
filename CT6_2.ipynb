{
  "nbformat": 4,
  "nbformat_minor": 0,
  "metadata": {
    "colab": {
      "provenance": [],
      "authorship_tag": "ABX9TyOM+qDgux+Ed5NsOT3JupzH",
      "include_colab_link": true
    },
    "kernelspec": {
      "name": "python3",
      "display_name": "Python 3"
    },
    "language_info": {
      "name": "python"
    }
  },
  "cells": [
    {
      "cell_type": "markdown",
      "metadata": {
        "id": "view-in-github",
        "colab_type": "text"
      },
      "source": [
        "<a href=\"https://colab.research.google.com/github/gayeon4122/First-1/blob/main/CT6_2.ipynb\" target=\"_parent\"><img src=\"https://colab.research.google.com/assets/colab-badge.svg\" alt=\"Open In Colab\"/></a>"
      ]
    },
    {
      "cell_type": "markdown",
      "source": [
        "학생 10명의 성적을 입력받아 평균을 계산한다."
      ],
      "metadata": {
        "id": "cVWKg-RpXaY_"
      }
    },
    {
      "cell_type": "code",
      "execution_count": 2,
      "metadata": {
        "colab": {
          "base_uri": "https://localhost:8080/"
        },
        "id": "h_CFvDHlXHGe",
        "outputId": "24b281d9-59af-4700-a95b-0257fb089a75"
      },
      "outputs": [
        {
          "output_type": "stream",
          "name": "stdout",
          "text": [
            "성적을 입력하시오.: 100\n",
            "성적을 입력하시오.: 90\n",
            "성적을 입력하시오.: 100\n",
            "성적을 입력하시오.: 100\n",
            "성적을 입력하시오.: 100\n",
            "성적을 입력하시오.: 100\n",
            "성적을 입력하시오.: 100\n",
            "성적을 입력하시오.: 100\n",
            "성적을 입력하시오.: 100\n",
            "성적을 입력하시오.: 100\n",
            "평균= 99.0\n"
          ]
        }
      ],
      "source": [
        "total=0                                         # total변수 초기값: 0\n",
        "counter=1                                       # counter 초기값: 1\n",
        "while counter <= 10:                            # counter가 10보다 작거나 같을 때 종료\n",
        "    grade=float(input('성적을 입력하시오.: '))  # 사용자에게 grade를 실수형을 받아라.\n",
        "    total=grade+total                           # total변수에 grade, total의 합을 저장하라.\n",
        "    counter=counter+1                           # counter 반복할 때마다 1 증가\n",
        "average= total/10                               # average변수에 total을 10을 나눈 평균값을 저장하라.\n",
        "print('평균=', average)                         # 평균과 변수 average 값을 화면에 출력하라."
      ]
    }
  ]
}